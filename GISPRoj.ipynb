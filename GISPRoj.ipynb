{
 "cells": [
  {
   "cell_type": "code",
   "execution_count": 1,
   "metadata": {},
   "outputs": [],
   "source": [
    "import numpy as np \n",
    "import re \n",
    "import requests as req \n",
    "import matplotlib.pyplot as plt \n",
    "import pandas as pd \n",
    "from sodapy import Socrata"
   ]
  },
  {
   "cell_type": "code",
   "execution_count": null,
   "metadata": {},
   "outputs": [],
   "source": [
    "#FOUND API. no need for requests\n",
    "# requ_url = 'https://www.dot.ny.gov/portal/pls/portal/MEXIS_APP.DYN_PROJECT_DETAILS.show'\n",
    "# req_post = {'p_arg_names': 'p_pin', 'p_arg_values':801079}\n",
    "# # resp = req.get(requ_url)\n",
    "# def data_retrieval(url: str, key: list[str]) -> pd.DataFrame:\n",
    "#     response = req.get(url)\n",
    "#     if response.ok == True and response.status_code == 200:\n",
    "#         print('Success')\n",
    "#     else:\n",
    "#         print('Failed')\n",
    "#     data = response.json()\n",
    "#     return data\n",
    "# response = req.get(requ_url, params=req_post)\n",
    "# print(response.text)"
   ]
  },
  {
   "cell_type": "code",
   "execution_count": 2,
   "metadata": {},
   "outputs": [
    {
     "data": {
      "text/plain": [
       "Index(['major_pin', 'contract_number', 'region', 'project_title',\n",
       "       'project_status', 'status', 'bid_opening_date', 'federal_funding',\n",
       "       'state_funding', 'local_funding', 'type_of_work',\n",
       "       'public_friendly_description', 'contract_award_date',\n",
       "       'contract_award_amount', 'approved_cost_changes',\n",
       "       'current_award_amount', 'estimated_or_actual_completed_date',\n",
       "       'schedule_performance', 'cost_performance',\n",
       "       'in_future_development_start_date', 'construction_start_date',\n",
       "       'construction_end_date', 'construction_amount'],\n",
       "      dtype='object')"
      ]
     },
     "execution_count": 2,
     "metadata": {},
     "output_type": "execute_result"
    }
   ],
   "source": [
    "client = Socrata(\"data.ny.gov\",app_token='SUV6CnpKWErb1fdYcxWDEXpHl', username='dwightdinkins@gmail.com',password='AVelaryon@2134')\n",
    "results = client.get(\"rz8t-4kmq\", limit=5000)\n",
    "results_df = pd.DataFrame.from_records(results)\n",
    "results_df.columns"
   ]
  },
  {
   "cell_type": "markdown",
   "metadata": {},
   "source": [
    "# Data Pre-processing"
   ]
  },
  {
   "cell_type": "code",
   "execution_count": 3,
   "metadata": {},
   "outputs": [],
   "source": [
    "group_status = results_df.groupby(by='status', as_index=False)\n",
    "indx = (results_df.status.str.contains('Completed Project', regex=False).to_numpy() == 1).nonzero()"
   ]
  },
  {
   "cell_type": "code",
   "execution_count": 4,
   "metadata": {},
   "outputs": [],
   "source": [
    "pd.set_option('display.max_columns', 23)\n",
    "completed = results_df.iloc[indx[0],:].copy()\n",
    "# Converted COntract Award Date & Estimated Completion Date to Datetime Objects\n",
    "completed.contract_award_date = pd.to_datetime(completed.contract_award_date)\n",
    "completed.estimated_or_actual_completed_date = pd.to_datetime(completed.estimated_or_actual_completed_date)"
   ]
  },
  {
   "cell_type": "code",
   "execution_count": 6,
   "metadata": {},
   "outputs": [],
   "source": [
    "completed_dropped_contruct = completed.drop(columns=['construction_start_date', 'construction_end_date', 'construction_amount']).copy()"
   ]
  }
 ],
 "metadata": {
  "kernelspec": {
   "display_name": "Python 3",
   "language": "python",
   "name": "python3"
  },
  "language_info": {
   "codemirror_mode": {
    "name": "ipython",
    "version": 3
   },
   "file_extension": ".py",
   "mimetype": "text/x-python",
   "name": "python",
   "nbconvert_exporter": "python",
   "pygments_lexer": "ipython3",
   "version": "3.13.0"
  }
 },
 "nbformat": 4,
 "nbformat_minor": 2
}
